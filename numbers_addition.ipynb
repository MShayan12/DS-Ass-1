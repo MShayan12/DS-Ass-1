{
 "cells": [
  {
   "cell_type": "code",
   "execution_count": 1,
   "id": "262fa911",
   "metadata": {},
   "outputs": [
    {
     "name": "stdout",
     "output_type": "stream",
     "text": [
      "Enter first number: 5\n",
      "Enter second number: 6\n",
      "11\n"
     ]
    }
   ],
   "source": [
    "num1 = int(input(\"Enter first number: \"));\n",
    "num2 = int(input(\"Enter second number: \"));\n",
    "print(num1 + num2);"
   ]
  },
  {
   "cell_type": "code",
   "execution_count": null,
   "id": "44c2c15d",
   "metadata": {},
   "outputs": [],
   "source": []
  }
 ],
 "metadata": {
  "kernelspec": {
   "display_name": "Python 3",
   "language": "python",
   "name": "python3"
  },
  "language_info": {
   "codemirror_mode": {
    "name": "ipython",
    "version": 3
   },
   "file_extension": ".py",
   "mimetype": "text/x-python",
   "name": "python",
   "nbconvert_exporter": "python",
   "pygments_lexer": "ipython3",
   "version": "3.8.8"
  }
 },
 "nbformat": 4,
 "nbformat_minor": 5
}
